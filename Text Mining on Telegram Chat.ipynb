{
 "cells": [
  {
   "cell_type": "markdown",
   "metadata": {},
   "source": [
    "# Understanding Chat Data \n",
    "\n",
    "\n",
    "\n",
    "Objective: Make sense of textual data by discovering volume and topic trends. \n",
    "\n",
    "Pre-requisites: \n",
    "Anaconda  https://docs.anaconda.com/anaconda/install/mac-os/  + Telegram Chat Data (Personal or Group)\n",
    "\n",
    "\n",
    "\n",
    "Creator: Jia Min Leong (IG: @personalprojects.py)"
   ]
  },
  {
   "cell_type": "code",
   "execution_count": 79,
   "metadata": {},
   "outputs": [
    {
     "data": {
      "text/html": [
       "        <script type=\"text/javascript\">\n",
       "        window.PlotlyConfig = {MathJaxConfig: 'local'};\n",
       "        if (window.MathJax) {MathJax.Hub.Config({SVG: {font: \"STIX-Web\"}});}\n",
       "        if (typeof require !== 'undefined') {\n",
       "        require.undef(\"plotly\");\n",
       "        requirejs.config({\n",
       "            paths: {\n",
       "                'plotly': ['https://cdn.plot.ly/plotly-latest.min']\n",
       "            }\n",
       "        });\n",
       "        require(['plotly'], function(Plotly) {\n",
       "            window._Plotly = Plotly;\n",
       "        });\n",
       "        }\n",
       "        </script>\n",
       "        "
      ]
     },
     "metadata": {},
     "output_type": "display_data"
    }
   ],
   "source": [
    "import requests\n",
    "import codecs\n",
    "from bs4 import BeautifulSoup\n",
    "import pandas as pd\n",
    "import numpy as np\n",
    "from datetime import datetime\n",
    "import matplotlib.pyplot as plt\n",
    "import seaborn as sns\n",
    "from scipy import special\n",
    "import re"
   ]
  },
  {
   "cell_type": "markdown",
   "metadata": {},
   "source": [
    "# Parse Telegram HTML\n",
    "\n",
    "Using BeautifulSoup package to transform HTML data (formatted for web interface) into a tabular format. "
   ]
  },
  {
   "cell_type": "code",
   "execution_count": 34,
   "metadata": {
    "code_folding": []
   },
   "outputs": [],
   "source": [
    "from_sender_list = []\n",
    "text_message_list = []\n",
    "date_time_list = []\n",
    "\n",
    "def message_details(message, from_sender_list, text_message_list, date_time_list):\n",
    "    if message.find('div', {'class': 'text'}) is None:\n",
    "        text_message_list.append('')\n",
    "    else:\n",
    "        text_message_list.append(message.find('div', {'class': 'text'}).get_text().rstrip().lstrip())\n",
    "    \n",
    "    if message.find('div', {'class': 'pull_right date details'}) is None:\n",
    "        date_time_list.append('')\n",
    "    else:\n",
    "        date_time_list.append(message.find('div', {'class': 'pull_right date details'})['title'])\n",
    "    \n",
    "    \n",
    "    if message.find('div', {'class': 'from_name'}) is None:\n",
    "        from_sender_list.append(from_sender_list[-1])\n",
    "    else:\n",
    "        from_sender_list.append(message.find('div', {'class': 'from_name'}).get_text().rstrip().lstrip())"
   ]
  },
  {
   "cell_type": "code",
   "execution_count": 35,
   "metadata": {},
   "outputs": [],
   "source": [
    "for i,item in enumerate(range(2,405)): #adjust this range based on how many html files you have\n",
    "    f = codecs.open(\"messages{}.html\".format(item),'r')\n",
    "    parsed_html = BeautifulSoup(f, 'lxml')\n",
    "    message_content = parsed_html.find_all('div',{'class':'body'})\n",
    "    \n",
    "    for message in message_content[1:]:\n",
    "        message_details(message, from_sender_list, text_message_list, date_time_list)"
   ]
  },
  {
   "cell_type": "code",
   "execution_count": 36,
   "metadata": {},
   "outputs": [],
   "source": [
    "df = pd.DataFrame({'from_sender':from_sender_list, 'text_message':text_message_list,'date_time':date_time_list})\n",
    "df.head()"
   ]
  },
  {
   "cell_type": "code",
   "execution_count": 39,
   "metadata": {
    "scrolled": true
   },
   "outputs": [],
   "source": [
    "df = df.fillna('12.12.2222 10:10:10')\n",
    "df['date_time'] = df.date_time.astype('str')"
   ]
  },
  {
   "cell_type": "markdown",
   "metadata": {},
   "source": [
    "# Surface Trends - Volume\n",
    "\n",
    "Using datetime package to parse timestamps into hour, month, quarter, year dimensions for easy visualisation"
   ]
  },
  {
   "cell_type": "code",
   "execution_count": null,
   "metadata": {},
   "outputs": [],
   "source": [
    "def convert_month_to_quarter(date):\n",
    "    if datetime.strptime(date, '%d.%m.%Y %H:%M:%S').month >= 1 and datetime.strptime(date, '%d.%m.%Y %H:%M:%S').month < 4:\n",
    "        quarter = 'Q1'\n",
    "    if datetime.strptime(date, '%d.%m.%Y %H:%M:%S').month >= 4 and datetime.strptime(date, '%d.%m.%Y %H:%M:%S').month < 7:\n",
    "        quarter = 'Q2'\n",
    "    if datetime.strptime(date, '%d.%m.%Y %H:%M:%S').month >= 7 and datetime.strptime(date, '%d.%m.%Y %H:%M:%S').month < 10:\n",
    "        quarter = 'Q3'\n",
    "    if datetime.strptime(date, '%d.%m.%Y %H:%M:%S').month >= 10:\n",
    "        quarter = 'Q4'\n",
    "    return quarter"
   ]
  },
  {
   "cell_type": "code",
   "execution_count": 40,
   "metadata": {},
   "outputs": [],
   "source": [
    "df['date'] = [datetime.strptime(i, '%d.%m.%Y %H:%M:%S').date() for i in df.date_time]\n",
    "df['hour'] = [datetime.strptime(i, '%d.%m.%Y %H:%M:%S').hour for i in df.date_time]\n",
    "df['month'] = [datetime.strptime(i, '%d.%m.%Y %H:%M:%S').date().replace(day=1) for i in df.date_time]\n",
    "df['year'] = [datetime.strptime(i, '%d.%m.%Y %H:%M:%S').date().year for i in df.date_time]\n",
    "df['quarter'] = df.date_time.apply(lambda x: convert_month_to_quarter(x))"
   ]
  },
  {
   "cell_type": "code",
   "execution_count": 42,
   "metadata": {},
   "outputs": [
    {
     "data": {
      "text/plain": [
       "datetime.date(2222, 12, 12)"
      ]
     },
     "execution_count": 42,
     "metadata": {},
     "output_type": "execute_result"
    }
   ],
   "source": [
    "max(df.date) #2015, 1, 22"
   ]
  },
  {
   "cell_type": "code",
   "execution_count": 47,
   "metadata": {},
   "outputs": [],
   "source": [
    "datecount = df.date.value_counts().reset_index().rename(columns ={'index':'month', 'month':'value_counts'}).sort_values(by='month')\n",
    "datecount.tail()"
   ]
  },
  {
   "cell_type": "code",
   "execution_count": 48,
   "metadata": {
    "scrolled": true
   },
   "outputs": [],
   "source": [
    "monthcount = df.month.value_counts().reset_index().rename(columns ={'index':'month', 'month':'value_counts'}).sort_values(by='month')\n",
    "monthcount = monthcount[monthcount['month'] <= datetime.strptime('2020-12-01','%Y-%m-%d').date()]\n",
    "monthcount.tail()"
   ]
  },
  {
   "cell_type": "code",
   "execution_count": 49,
   "metadata": {},
   "outputs": [
    {
     "data": {
      "text/plain": [
       "(array([ 0,  1,  2,  3,  4,  5,  6,  7,  8,  9, 10, 11, 12, 13, 14, 15, 16,\n",
       "        17, 18, 19, 20, 21, 22, 23, 24, 25, 26, 27, 28, 29, 30, 31, 32, 33,\n",
       "        34, 35, 36, 37, 38, 39, 40, 41, 42, 43, 44, 45, 46, 47, 48, 49, 50,\n",
       "        51, 52, 53, 54, 55, 56, 57, 58, 59, 60, 61, 62]),\n",
       " <a list of 63 Text xticklabel objects>)"
      ]
     },
     "execution_count": 49,
     "metadata": {},
     "output_type": "execute_result"
    },
    {
     "data": {
      "image/png": "[encoded data removed]",
      "text/plain": [
       "<matplotlib.figure.Figure at 0x1a21b779e8>"
      ]
     },
     "metadata": {},
     "output_type": "display_data"
    }
   ],
   "source": [
    "plt.figure(figsize=(20,5))\n",
    "seaborn.barplot(monthcount.month, monthcount.value_counts)\n",
    "plt.xticks(rotation=45) "
   ]
  },
  {
   "cell_type": "code",
   "execution_count": 118,
   "metadata": {
    "scrolled": true
   },
   "outputs": [],
   "source": [
    "hourcount = df.groupby(['year','date','hour']).count()[['text_message']].reset_index()\n",
    "hourcount_rebased = hourcount.groupby(['year','hour']).mean()[['text_message']].reset_index()\n",
    "hourcount_rebased.text_message = hourcount_rebased.text_message.astype(int)\n",
    "hourcount_rebased.head()"
   ]
  },
  {
   "cell_type": "code",
   "execution_count": 147,
   "metadata": {},
   "outputs": [
    {
     "data": {
      "text/plain": [
       "<matplotlib.axes._subplots.AxesSubplot at 0x1a4d5a3278>"
      ]
     },
     "execution_count": 147,
     "metadata": {},
     "output_type": "execute_result"
    },
    {
     "data": {
      "image/png": "[encoded data removed]",
      "text/plain": [
       "<matplotlib.figure.Figure at 0x1a4d3c3128>"
      ]
     },
     "metadata": {},
     "output_type": "display_data"
    }
   ],
   "source": [
    "hourcount_rebased = hourcount_rebased[(hourcount_rebased['year']>= 2018) & (hourcount_rebased['year']<= 2020)]\n",
    "result = pd.pivot_table(hourcount_rebased, values= 'text_message', index=['year'], columns=['hour'])\n",
    "result.fillna(5)\n",
    "\n",
    "fig, ax = plt.subplots(figsize=(18,5))\n",
    "title = \"Hourly Chat Logs\"\n",
    "\n",
    "plt.title(title, fontsize=18)\n",
    "ttl = ax.title\n",
    "ttl.set_position([0.5,1.05])\n",
    "\n",
    "ax.set_xticks([])\n",
    "ax.set_yticks([])\n",
    "\n",
    "sns.heatmap(result, cmap='PuBu', fmt='', linewidths=1.30, ax=ax)\n"
   ]
  },
  {
   "cell_type": "markdown",
   "metadata": {},
   "source": [
    "# Surface Trends - Topics\n",
    "\n",
    "Using regular expressions to match keywords (self-defined) and aggregate at meaningful cadences"
   ]
  },
  {
   "cell_type": "code",
   "execution_count": null,
   "metadata": {},
   "outputs": [],
   "source": [
    "#creating a test DF to transform\n",
    "testdf = df[(df['date'] <= datetime.strptime('2020-12-01','%Y-%m-%d').date()) & (df['date'] >= datetime.strptime('2018-06-01','%Y-%m-%d').date())]\n",
    "testdf['year_quarter'] = testdf['year'].astype('str') + testdf['quarter']"
   ]
  },
  {
   "cell_type": "code",
   "execution_count": 16,
   "metadata": {},
   "outputs": [],
   "source": [
    "def derive_occurrences(string,granularity):\n",
    "    testdf['infocus'] = testdf.text_message.str.contains(string, regex=True, case=False)\n",
    "    infocusdf = testdf[testdf['infocus']==True]\n",
    "    consolidatingdf = infocusdf[granularity].value_counts().reset_index().rename(columns ={'index':granularity, granularity:'value_counts'}).sort_values(by=granularity)\n",
    "    consolidatingdf['infocus'] = string\n",
    "    minidf = pd.pivot_table(consolidatingdf, values='value_counts',index=['infocus'], columns=[granularity], aggfunc=np.sum, fill_value=0).reset_index()\n",
    "    return minidf"
   ]
  },
  {
   "cell_type": "code",
   "execution_count": 1,
   "metadata": {},
   "outputs": [
    {
     "data": {
      "text/plain": [
       "7"
      ]
     },
     "execution_count": 1,
     "metadata": {},
     "output_type": "execute_result"
    }
   ],
   "source": [
    "stringlist = ['dinner', 'dating|date','watch|show', 'netflix', \n",
    "              'picnic|movie', 'friday', 'dessert|cream|cake|chocolate|prata']\n",
    "\n",
    "len(stringlist)"
   ]
  },
  {
   "cell_type": "code",
   "execution_count": 67,
   "metadata": {},
   "outputs": [
    {
     "name": "stderr",
     "output_type": "stream",
     "text": [
      "/anaconda3/lib/python3.6/site-packages/ipykernel_launcher.py:2: SettingWithCopyWarning:\n",
      "\n",
      "\n",
      "A value is trying to be set on a copy of a slice from a DataFrame.\n",
      "Try using .loc[row_indexer,col_indexer] = value instead\n",
      "\n",
      "See the caveats in the documentation: http://pandas.pydata.org/pandas-docs/stable/indexing.html#indexing-view-versus-copy\n",
      "\n"
     ]
    }
   ],
   "source": [
    "megadf = pd.DataFrame()\n",
    "\n",
    "for string in stringlist:\n",
    "    minidf = derive_occurrences(string, 'month')\n",
    "    megadf = megadf.append(minidf)"
   ]
  },
  {
   "cell_type": "code",
   "execution_count": null,
   "metadata": {},
   "outputs": [],
   "source": [
    "megadf.fillna(0)\n",
    "#saving the results\n",
    "megadf.to_csv('trendsdiscovery.csv')"
   ]
  }
 ],
 "metadata": {
  "kernelspec": {
   "display_name": "Python 3",
   "language": "python",
   "name": "python3"
  },
  "language_info": {
   "codemirror_mode": {
    "name": "ipython",
    "version": 3
   },
   "file_extension": ".py",
   "mimetype": "text/x-python",
   "name": "python",
   "nbconvert_exporter": "python",
   "pygments_lexer": "ipython3",
   "version": "3.6.4"
  }
 },
 "nbformat": 4,
 "nbformat_minor": 2
}
